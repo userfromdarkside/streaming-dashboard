{
 "cells": [
  {
   "cell_type": "code",
   "execution_count": 0,
   "metadata": {
    "application/vnd.databricks.v1+cell": {
     "cellMetadata": {
      "byteLimit": 2048000,
      "rowLimit": 10000
     },
     "inputWidgets": {},
     "nuid": "cd01bd6f-bd60-48cd-bdcd-814e538b389d",
     "showTitle": false,
     "tableResultSettingsMap": {},
     "title": ""
    }
   },
   "outputs": [],
   "source": [
    "CREATE or REFRESH STREAMING TABLE raw_transactions_streaming (\n",
    "    CONSTRAINT correct_schema EXPECT (_rescued_data IS NULL)\n",
    ")\n",
    "COMMENT 'This streaming table has all data from json files'\n",
    "AS\n",
    "SELECT *\n",
    "FROM STREAM cloud_files(\n",
    "    'dbfs:/tmp/streaming_landing_store',\n",
    "    'json',\n",
    "    map('cloudFiles.inferColumnTypes', 'true')\n",
    ");"
   ]
  },
  {
   "cell_type": "code",
   "execution_count": 0,
   "metadata": {
    "application/vnd.databricks.v1+cell": {
     "cellMetadata": {
      "byteLimit": 2048000,
      "rowLimit": 10000
     },
     "inputWidgets": {},
     "nuid": "e59068d4-d449-4119-9b61-64292e63c970",
     "showTitle": false,
     "tableResultSettingsMap": {},
     "title": ""
    }
   },
   "outputs": [],
   "source": [
    "CREATE OR REFRESH STREAMING table dim_customer (\n",
    "  customer_id STRING NOT NULL,\n",
    "  customer_name STRING,\n",
    "  customer_email STRING,\n",
    "  customer_phone STRING,\n",
    "  customer_birthdate STRING,\n",
    "  customer_gender STRING,\n",
    "  CONSTRAINT valid_customer_id EXPECT (customer_id IS NOT NULL)\n",
    ")\n",
    "AS\n",
    "SELECT\n",
    "  customer_id,\n",
    "  customer_name,\n",
    "  customer_email,\n",
    "  customer_phone,\n",
    "  customer_birthdate,\n",
    "  customer_gender\n",
    "FROM stream(databricksws.default.raw_transactions_streaming)\n",
    "GROUP BY customer_id, customer_name, customer_email, customer_phone, customer_birthdate, customer_gender;"
   ]
  },
  {
   "cell_type": "code",
   "execution_count": 0,
   "metadata": {
    "application/vnd.databricks.v1+cell": {
     "cellMetadata": {
      "byteLimit": 2048000,
      "rowLimit": 10000
     },
     "inputWidgets": {},
     "nuid": "5978de9a-b5e8-45e9-afa4-e205a0bac22e",
     "showTitle": false,
     "tableResultSettingsMap": {},
     "title": ""
    }
   },
   "outputs": [],
   "source": [
    "CREATE OR REFRESH STREAMING TABLE dim_product (\n",
    "  product_id STRING NOT NULL,\n",
    "  product_name STRING,\n",
    "  product_category STRING,\n",
    "  product_price DOUBLE,\n",
    "  CONSTRAINT valid_product_id EXPECT (product_id IS NOT NULL)\n",
    ")\n",
    "AS\n",
    "SELECT\n",
    "  product_id,\n",
    "  product_name,\n",
    "  product_category,\n",
    "  cast(product_price AS double) as product_price\n",
    "FROM STREAM(databricksws.default.raw_transactions_streaming)\n",
    "GROUP BY product_id, product_name, product_category, product_price;"
   ]
  },
  {
   "cell_type": "code",
   "execution_count": 0,
   "metadata": {
    "application/vnd.databricks.v1+cell": {
     "cellMetadata": {
      "byteLimit": 2048000,
      "rowLimit": 10000
     },
     "inputWidgets": {},
     "nuid": "bac2850b-941b-4994-9af9-49bf370fdd60",
     "showTitle": false,
     "tableResultSettingsMap": {},
     "title": ""
    }
   },
   "outputs": [],
   "source": [
    "CREATE OR REFRESH STREAMING TABLE dim_store (\n",
    "  store_id STRING NOT NULL,\n",
    "  store_name STRING,\n",
    "  store_city STRING,\n",
    "  store_state STRING,\n",
    "  store_country STRING,\n",
    "  store_postcode STRING,\n",
    "  CONSTRAINT valid_store_id EXPECT (store_id IS NOT NULL)\n",
    ")\n",
    "AS\n",
    "SELECT\n",
    "  store_id,\n",
    "  store_name,\n",
    "  store_city,\n",
    "  store_state,\n",
    "  store_country,\n",
    "  store_postcode\n",
    "FROM STREAM(databricksws.default.raw_transactions_streaming)\n",
    "GROUP BY store_id, store_name, store_city, store_state, store_country, store_postcode;"
   ]
  },
  {
   "cell_type": "code",
   "execution_count": 0,
   "metadata": {
    "application/vnd.databricks.v1+cell": {
     "cellMetadata": {
      "byteLimit": 2048000,
      "rowLimit": 10000
     },
     "inputWidgets": {},
     "nuid": "53d1e52a-0fc8-4687-bbdc-c4db60275952",
     "showTitle": false,
     "tableResultSettingsMap": {},
     "title": ""
    }
   },
   "outputs": [],
   "source": [
    "CREATE OR REFRESH STREAMING TABLE fact_transaction (\n",
    "  transaction_id STRING NOT NULL,\n",
    "  customer_id STRING,\n",
    "  store_id STRING,\n",
    "  product_id STRING,\n",
    "  transaction_timestamp TIMESTAMP,\n",
    "  transaction_date STRING,\n",
    "  transaction_hour INT,\n",
    "  transaction_day_of_week STRING,\n",
    "  transaction_month STRING,\n",
    "  transaction_year INT,\n",
    "  quantity INT,\n",
    "  total_amount DOUBLE,\n",
    "  payment_method STRING,\n",
    "  CONSTRAINT valid_transaction_id EXPECT (transaction_id IS NOT NULL)\n",
    ")\n",
    "AS\n",
    "SELECT\n",
    "  CAST(transaction_id AS STRING) AS transaction_id,\n",
    "  CAST(customer_id AS STRING) AS customer_id,\n",
    "  CAST(store_id AS STRING) AS store_id,\n",
    "  CAST(product_id AS STRING) AS product_id,\n",
    "  TRY_CAST(transaction_timestamp AS TIMESTAMP) AS transaction_timestamp,\n",
    "  CAST(transaction_date AS STRING) AS transaction_date,\n",
    "  TRY_CAST(transaction_hour AS INT) AS transaction_hour,\n",
    "  CAST(transaction_day_of_week AS STRING) AS transaction_day_of_week,\n",
    "  CAST(transaction_month AS STRING) AS transaction_month,\n",
    "  TRY_CAST(transaction_year AS INT) AS transaction_year,\n",
    "  TRY_CAST(quantity AS INT) AS quantity,\n",
    "  TRY_CAST(total_amount AS DOUBLE) AS total_amount,\n",
    "  CAST(payment_method AS STRING) AS payment_method\n",
    "FROM STREAM(databricksws.default.raw_transactions_streaming);"
   ]
  },
  {
   "cell_type": "code",
   "execution_count": 0,
   "metadata": {
    "application/vnd.databricks.v1+cell": {
     "cellMetadata": {},
     "inputWidgets": {},
     "nuid": "d0c3fe34-fb37-46d7-b997-3f134f26e4f1",
     "showTitle": false,
     "tableResultSettingsMap": {},
     "title": ""
    }
   },
   "outputs": [],
   "source": []
  }
 ],
 "metadata": {
  "application/vnd.databricks.v1+notebook": {
   "computePreferences": {
    "hardware": {
     "accelerator": null,
     "gpuPoolId": null,
     "memory": null
    }
   },
   "dashboards": [],
   "environmentMetadata": {
    "base_environment": "",
    "environment_version": "4"
   },
   "inputWidgetPreferences": null,
   "language": "sql",
   "notebookMetadata": {
    "pythonIndentUnit": 4
   },
   "notebookName": "live streaming tabels",
   "widgets": {}
  },
  "language_info": {
   "name": "sql"
  }
 },
 "nbformat": 4,
 "nbformat_minor": 0
}