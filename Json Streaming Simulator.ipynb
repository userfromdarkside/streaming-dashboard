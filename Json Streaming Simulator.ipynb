{
 "cells": [
  {
   "cell_type": "code",
   "execution_count": 0,
   "metadata": {
    "application/vnd.databricks.v1+cell": {
     "cellMetadata": {
      "byteLimit": 2048000,
      "rowLimit": 10000
     },
     "inputWidgets": {},
     "nuid": "1d853be3-8367-42fb-a1fb-4cba898da150",
     "showTitle": false,
     "tableResultSettingsMap": {},
     "title": ""
    }
   },
   "outputs": [],
   "source": [
    "%pip install faker"
   ]
  },
  {
   "cell_type": "code",
   "execution_count": 0,
   "metadata": {
    "application/vnd.databricks.v1+cell": {
     "cellMetadata": {
      "byteLimit": 2048000,
      "rowLimit": 10000
     },
     "inputWidgets": {},
     "nuid": "ab6b960f-d14b-4b73-9ac1-cc47e8349107",
     "showTitle": false,
     "tableResultSettingsMap": {},
     "title": ""
    }
   },
   "outputs": [],
   "source": [
    "%restart_python"
   ]
  },
  {
   "cell_type": "code",
   "execution_count": 0,
   "metadata": {
    "application/vnd.databricks.v1+cell": {
     "cellMetadata": {
      "byteLimit": 2048000,
      "rowLimit": 10000
     },
     "inputWidgets": {},
     "nuid": "0d9a71e3-7aab-41f6-aff6-dfd504c6a155",
     "showTitle": false,
     "tableResultSettingsMap": {},
     "title": ""
    }
   },
   "outputs": [],
   "source": [
    "dbutils.fs.mkdirs(\"dbfs:/tmp/streaming_landing_store/\")"
   ]
  },
  {
   "cell_type": "code",
   "execution_count": 0,
   "metadata": {
    "application/vnd.databricks.v1+cell": {
     "cellMetadata": {
      "byteLimit": 2048000,
      "rowLimit": 10000
     },
     "inputWidgets": {},
     "nuid": "1486a0e8-f043-43d0-95fe-3c5f2393e92f",
     "showTitle": false,
     "tableResultSettingsMap": {},
     "title": ""
    }
   },
   "outputs": [],
   "source": [
    "from dataclasses import dataclass, asdict\n",
    "from faker import Faker\n",
    "import random\n",
    "import json\n",
    "import time\n",
    "import time\n",
    "from datetime import datetime"
   ]
  },
  {
   "cell_type": "code",
   "execution_count": 0,
   "metadata": {
    "application/vnd.databricks.v1+cell": {
     "cellMetadata": {
      "byteLimit": 2048000,
      "rowLimit": 10000
     },
     "inputWidgets": {},
     "nuid": "cdf53f36-df51-41d0-8df8-8520beca44f6",
     "showTitle": false,
     "tableResultSettingsMap": {},
     "title": ""
    }
   },
   "outputs": [],
   "source": [
    "fake = Faker()"
   ]
  },
  {
   "cell_type": "code",
   "execution_count": 0,
   "metadata": {
    "application/vnd.databricks.v1+cell": {
     "cellMetadata": {
      "byteLimit": 2048000,
      "rowLimit": 10000
     },
     "inputWidgets": {},
     "nuid": "eaeee93a-4efd-4b61-a69d-2ec8259348bc",
     "showTitle": false,
     "tableResultSettingsMap": {},
     "title": ""
    }
   },
   "outputs": [],
   "source": [
    "@dataclass\n",
    "class FakeRecord:\n",
    "    transaction_id: str\n",
    "\n",
    "    # Customer Dimension\n",
    "    customer_id: str\n",
    "    customer_name: str\n",
    "    customer_email: str\n",
    "    customer_phone: str\n",
    "    customer_birthdate: str\n",
    "    customer_gender: str\n",
    "\n",
    "    # Time Dimension\n",
    "    transaction_timestamp: str\n",
    "    transaction_date: str\n",
    "    transaction_hour: str\n",
    "    transaction_day_of_week: str\n",
    "    transaction_month: str\n",
    "    transaction_year: str\n",
    "\n",
    "    # Location Dimension\n",
    "    store_id: str\n",
    "    store_name: str\n",
    "    store_city: str\n",
    "    store_state: str\n",
    "    store_country: str\n",
    "    store_postcode: str\n",
    "\n",
    "    # Product Dimension\n",
    "    product_id: str\n",
    "    product_name: str\n",
    "    product_category: str\n",
    "    product_price: str\n",
    "\n",
    "    # Fact Table Measures\n",
    "    quantity: str\n",
    "    total_amount: str\n",
    "    payment_method: str\n",
    "\n",
    "    @staticmethod\n",
    "    def generate():\n",
    "        timestamp = fake.date_time_this_year()\n",
    "        quantity = random.randint(1, 5)\n",
    "        price = round(random.uniform(10, 500), 2)\n",
    "        return FakeRecord(\n",
    "            transaction_id=fake.uuid4(),\n",
    "\n",
    "            customer_id=fake.uuid4(),\n",
    "            customer_name=fake.name(),\n",
    "            customer_email=fake.email(),\n",
    "            customer_phone=fake.phone_number(),\n",
    "            customer_birthdate=str(fake.date_of_birth()),\n",
    "            customer_gender=random.choice([\"Male\", \"Female\", \"Other\"]),\n",
    "\n",
    "            transaction_timestamp=str(timestamp),\n",
    "            transaction_date=timestamp.strftime(\"%Y-%m-%d\"),\n",
    "            transaction_hour=str(timestamp.hour),\n",
    "            transaction_day_of_week=timestamp.strftime(\"%A\"),\n",
    "            transaction_month=timestamp.strftime(\"%B\"),\n",
    "            transaction_year=str(timestamp.year),\n",
    "\n",
    "            store_id=fake.uuid4(),\n",
    "            store_name=fake.company(),\n",
    "            store_city=fake.city(),\n",
    "            store_state=fake.state(),\n",
    "            store_country=fake.country(),\n",
    "            store_postcode=fake.postcode(),\n",
    "\n",
    "            product_id=fake.uuid4(),\n",
    "            product_name=fake.word().capitalize(),\n",
    "            product_category=random.choice([\"Electronics\", \"Clothing\", \"Home\", \"Books\", \"Toys\"]),\n",
    "            product_price=str(price),\n",
    "\n",
    "            quantity=str(quantity),\n",
    "            total_amount=str(round(price * quantity, 2)),\n",
    "            payment_method=random.choice([\"Credit Card\", \"Cash\", \"PayPal\", \"Gift Card\"])\n",
    "        )"
   ]
  },
  {
   "cell_type": "code",
   "execution_count": 0,
   "metadata": {
    "application/vnd.databricks.v1+cell": {
     "cellMetadata": {
      "byteLimit": 2048000,
      "rowLimit": 10000
     },
     "inputWidgets": {},
     "nuid": "f696fe75-3ce8-4ca3-ab57-a25277dc68f0",
     "showTitle": false,
     "tableResultSettingsMap": {},
     "title": ""
    }
   },
   "outputs": [],
   "source": [
    "import uuid\n",
    "\n",
    "def generate_streaming_data(num_files=1, records_per_file=5, delay=1):\n",
    "    for i in range(num_files):\n",
    "        records = [asdict(FakeRecord.generate()) for _ in range(records_per_file)]\n",
    "        timestamp_suffix = datetime.now().strftime(\"%Y%m%d_%H%M%S\")\n",
    "        unique_id = uuid.uuid4().hex\n",
    "        file_name = f\"data_{timestamp_suffix}_{unique_id}.json\"\n",
    "        file_path = f\"/tmp/streaming_landing_store/{file_name}\"\n",
    "        dbutils.fs.put(file_path, json.dumps(records), True)\n",
    "        print(f\"Generated: {file_path}\")\n",
    "        time.sleep(delay)\n",
    "generate_streaming_data()"
   ]
  },
  {
   "cell_type": "code",
   "execution_count": 0,
   "metadata": {
    "application/vnd.databricks.v1+cell": {
     "cellMetadata": {
      "byteLimit": 2048000,
      "rowLimit": 10000
     },
     "inputWidgets": {},
     "nuid": "763027b7-0f80-4597-817b-5ae7866d270f",
     "showTitle": false,
     "tableResultSettingsMap": {},
     "title": ""
    }
   },
   "outputs": [],
   "source": [
    "%fs ls dbfs:/tmp/streaming_landing_store/\n"
   ]
  }
 ],
 "metadata": {
  "application/vnd.databricks.v1+notebook": {
   "computePreferences": {
    "hardware": {
     "accelerator": null,
     "gpuPoolId": null,
     "memory": null
    }
   },
   "dashboards": [],
   "environmentMetadata": {
    "base_environment": "",
    "environment_version": "4"
   },
   "inputWidgetPreferences": null,
   "language": "python",
   "notebookMetadata": {
    "mostRecentlyExecutedCommandWithImplicitDF": {
     "commandId": 6454607074689996,
     "dataframes": [
      "_sqldf"
     ]
    },
    "pythonIndentUnit": 4
   },
   "notebookName": "Json Streaming Simulator",
   "widgets": {}
  },
  "language_info": {
   "name": "python"
  }
 },
 "nbformat": 4,
 "nbformat_minor": 0
}