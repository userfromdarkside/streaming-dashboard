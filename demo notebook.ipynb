{
 "cells": [
  {
   "cell_type": "code",
   "execution_count": 0,
   "metadata": {
    "application/vnd.databricks.v1+cell": {
     "cellMetadata": {
      "byteLimit": 2048000,
      "rowLimit": 10000
     },
     "inputWidgets": {},
     "nuid": "20259557-3bc6-46be-9b3a-8785ea2fc9b6",
     "showTitle": false,
     "tableResultSettingsMap": {},
     "title": ""
    }
   },
   "outputs": [],
   "source": [
    "access_key = dbutils.secrets.get(scope=\"aws-creds\", key=\"access-key\")\n",
    "secret_key = dbutils.secrets.get(scope=\"aws-creds\", key=\"secret-key\")\n",
    "\n",
    "spark._jsc.hadoopConfiguration().set(\"fs.s3a.access.key\", access_key)\n",
    "spark._jsc.hadoopConfiguration().set(\"fs.s3a.secret.key\", secret_key)\n",
    "spark._jsc.hadoopConfiguration().set(\"fs.s3a.endpoint\", \"s3.amazonaws.com\")"
   ]
  },
  {
   "cell_type": "code",
   "execution_count": 0,
   "metadata": {
    "application/vnd.databricks.v1+cell": {
     "cellMetadata": {
      "byteLimit": 2048000,
      "rowLimit": 10000
     },
     "inputWidgets": {},
     "nuid": "9b45e19c-f8be-4e5e-9cd9-8e44442c018a",
     "showTitle": false,
     "tableResultSettingsMap": {},
     "title": ""
    }
   },
   "outputs": [],
   "source": [
    "\n",
    "try:\n",
    "    spark.sql(\"create schema local_stream_s3.bronze;\")\n",
    "except:\n",
    "    print('check if bronze schema already exists')\n",
    "\n",
    "try:\n",
    "    spark.sql(\"create schema local_stream_s3.silver\")\n",
    "except:\n",
    "    print('check if silver schema already exists')\n",
    "\n",
    "try:\n",
    "    spark.sql(\"create schema local_stream_s3.gold;\")\n",
    "except:\n",
    "    print('check if gold schema already exists')\n",
    "     "
   ]
  },
  {
   "cell_type": "code",
   "execution_count": 0,
   "metadata": {
    "application/vnd.databricks.v1+cell": {
     "cellMetadata": {
      "byteLimit": 2048000,
      "rowLimit": 10000
     },
     "inputWidgets": {},
     "nuid": "80f6f2f9-57fa-40f7-9906-51ad2ae26995",
     "showTitle": false,
     "tableResultSettingsMap": {},
     "title": ""
    }
   },
   "outputs": [],
   "source": [
    "%python\n",
    "s3_path = \"s3a://localstreams3/\"\n",
    "schema_location = \"dbfs:/local_stream_s3/bronze_schema\"\n",
    "\n",
    "bronze_df = (\n",
    "    spark.readStream\n",
    "    .format(\"cloudFiles\")\n",
    "    .option(\"cloudFiles.format\", \"json\")\n",
    "    .option(\"cloudFiles.schemaLocation\", schema_location)\n",
    "    .load(s3_path)\n",
    ")\n"
   ]
  },
  {
   "cell_type": "code",
   "execution_count": 0,
   "metadata": {
    "application/vnd.databricks.v1+cell": {
     "cellMetadata": {
      "byteLimit": 2048000,
      "rowLimit": 10000
     },
     "inputWidgets": {},
     "nuid": "10856d32-2cbd-4e28-883a-dc99f9851f4c",
     "showTitle": false,
     "tableResultSettingsMap": {},
     "title": ""
    }
   },
   "outputs": [],
   "source": [
    "bronze_df.writeStream\\\n",
    "    .option(\"checkpointLocation\", \"/mnt/local_stream_s3/bronze/transactions\")\\\n",
    "    .outputMode(\"append\")\\\n",
    "    .format(\"delta\")\\\n",
    "    .toTable(\"local_stream_s3.bronze.transactions\")"
   ]
  },
  {
   "cell_type": "code",
   "execution_count": 0,
   "metadata": {
    "application/vnd.databricks.v1+cell": {
     "cellMetadata": {
      "byteLimit": 2048000,
      "rowLimit": 10000
     },
     "inputWidgets": {},
     "nuid": "b351bccb-ad97-4703-a674-d50f570b544c",
     "showTitle": false,
     "tableResultSettingsMap": {},
     "title": ""
    }
   },
   "outputs": [],
   "source": [
    "from pyspark.sql.types import *\n",
    "\n",
    "silver_schema = StructType([\n",
    "    StructField(\"amount\", DoubleType(), True),\n",
    "    StructField(\"currency\", StringType(), True),\n",
    "    StructField(\"username\", StringType(), True)\n",
    "])\n",
    "\n",
    "silver_df = (\n",
    "    spark.readStream\n",
    "    .table(\"local_stream_s3.bronze.transactions\")\n",
    "    .selectExpr(\n",
    "        \"CAST(amount AS DOUBLE) as amount\",\n",
    "        \"CAST(currency AS STRING) as currency\",\n",
    "        \"CAST(username AS STRING) as username\"\n",
    "    )\n",
    "    \n",
    ")\n",
    "\n",
    "silver_df.writeStream \\\n",
    "    .option(\"checkpointLocation\", \"/mnt/local_stream_s3/silver/cls_transactions\") \\\n",
    "    .outputMode(\"append\") \\\n",
    "    .format(\"delta\") \\\n",
    "    .toTable(\"local_stream_s3.silver.cls_transactions\")"
   ]
  },
  {
   "cell_type": "code",
   "execution_count": 0,
   "metadata": {
    "application/vnd.databricks.v1+cell": {
     "cellMetadata": {
      "byteLimit": 2048000,
      "rowLimit": 10000
     },
     "inputWidgets": {},
     "nuid": "af1f54c9-88c5-44ef-b9f8-98669026f74c",
     "showTitle": false,
     "tableResultSettingsMap": {},
     "title": ""
    }
   },
   "outputs": [],
   "source": [
    "from pyspark.sql.functions import sum, count, window\n",
    "\n",
    "gold_df = (\n",
    "    spark.readStream\n",
    "    .table(\"local_stream_s3.silver.cls_transactions\")\n",
    "    .groupBy(\n",
    "        \n",
    "        \"currency\"\n",
    "    )\n",
    "    .agg(\n",
    "        sum(\"amount\").alias(\"total_amount\"),\n",
    "        count(\"username\").alias(\"total_users\")\n",
    "    )\n",
    ")\n",
    "\n",
    "gold_df.writeStream \\\n",
    "    .option(\"checkpointLocation\", \"/mnt/local_stream_s3/gold/agg_transactions\") \\\n",
    "    .format('memory') \\\n",
    "    .outputMode(\"complete\") \\\n",
    "    .format(\"delta\") \\\n",
    "    .toTable(\"local_stream_s3.gold.agg_transactions\")"
   ]
  },
  {
   "cell_type": "code",
   "execution_count": 0,
   "metadata": {
    "application/vnd.databricks.v1+cell": {
     "cellMetadata": {
      "byteLimit": 2048000,
      "implicitDf": true,
      "rowLimit": 10000
     },
     "inputWidgets": {},
     "nuid": "993d0d77-414d-4745-adc5-b81bf4a9de54",
     "showTitle": false,
     "tableResultSettingsMap": {},
     "title": ""
    }
   },
   "outputs": [],
   "source": [
    "%sql\n",
    "select * from local_stream_s3.gold.agg_transactions"
   ]
  },
  {
   "cell_type": "code",
   "execution_count": 0,
   "metadata": {
    "application/vnd.databricks.v1+cell": {
     "cellMetadata": {},
     "inputWidgets": {},
     "nuid": "076836f2-d674-457a-9383-ec3171898af7",
     "showTitle": false,
     "tableResultSettingsMap": {},
     "title": ""
    }
   },
   "outputs": [],
   "source": [
    "# ...1379429\n",
    "# ...1644559"
   ]
  }
 ],
 "metadata": {
  "application/vnd.databricks.v1+notebook": {
   "computePreferences": null,
   "dashboards": [],
   "environmentMetadata": {
    "base_environment": "",
    "environment_version": "4"
   },
   "inputWidgetPreferences": null,
   "language": "python",
   "notebookMetadata": {
    "mostRecentlyExecutedCommandWithImplicitDF": {
     "commandId": 5746204732258001,
     "dataframes": [
      "_sqldf"
     ]
    },
    "pythonIndentUnit": 4
   },
   "notebookName": "demo notebook",
   "widgets": {}
  },
  "language_info": {
   "name": "python"
  }
 },
 "nbformat": 4,
 "nbformat_minor": 0
}